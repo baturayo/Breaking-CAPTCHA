{
 "cells": [
  {
   "cell_type": "markdown",
   "metadata": {},
   "source": [
    "# BREAKING CAPTCHA"
   ]
  },
  {
   "cell_type": "markdown",
   "metadata": {},
   "source": [
    "The purpose of this project is to break a CAPTCHA (Completely Automated Public Turing test to tell Computers and Humans Apart). As it is understood from the abbreviation, CAPTCHA is a type of Turing Test developed by Alan Turing who is known as the father of theoretical computer science and artificial intelligence. Turing Test reveals the question whether a computer can think like a human. Based on the definition, an ideal CAPTCHA should be recognized by a human but not by a computer. Generally, it is an image or a sound.\n",
    "\n",
    "Thanks to developing algorithms and increasing processing power breaking CAPTCHA is getting easier. Within the scope of this project, I will try to break an image CAPTCHA by using the convolutional neural network.\n"
   ]
  },
  {
   "cell_type": "markdown",
   "metadata": {},
   "source": [
    "## Import Libraries"
   ]
  },
  {
   "cell_type": "markdown",
   "metadata": {},
   "source": [
    "You need to download the libraries below to be able to run this project. I used 'pip' to download all the necessary libraries. If you do not have pip, you can refer to https://pip.pypa.io/en/stable/installing/\n",
    "- Pandas: <font color=green>pip install pandas</font>\n",
    "- Numpy: <font color=green>pip install numpy</font>\n",
    "- MatPlotLib: <font color=green>pip install matplotlib</font>\n",
    "- Tensorflow: <font color=green>pip install tensorflow</font>\n",
    "- CV2: <font color=green>pip install opencv-python</font>\n",
    "- SK-Learn: <font color=green>pip install sklearn</font>"
   ]
  },
  {
   "cell_type": "code",
   "execution_count": 1,
   "metadata": {},
   "outputs": [
    {
     "name": "stderr",
     "output_type": "stream",
     "text": [
      "/Users/baturay/anaconda2/lib/python2.7/site-packages/h5py/__init__.py:34: FutureWarning: Conversion of the second argument of issubdtype from `float` to `np.floating` is deprecated. In future, it will be treated as `np.float64 == np.dtype(float).type`.\n",
      "  from ._conv import register_converters as _register_converters\n"
     ]
    }
   ],
   "source": [
    "import time\n",
    "import math\n",
    "import random\n",
    "import re\n",
    "import pandas as pd\n",
    "import numpy as np\n",
    "import matplotlib.pyplot as plt\n",
    "import tensorflow as tf\n",
    "import dataset\n",
    "import cv2\n",
    "import string\n",
    "import random\n",
    "\n",
    "from sklearn.metrics import confusion_matrix\n",
    "from datetime import timedelta\n",
    "\n",
    "from os import listdir, getcwd\n",
    "from os.path import isfile, join\n"
   ]
  },
  {
   "cell_type": "markdown",
   "metadata": {},
   "source": [
    "## Import Train Set, Validation Set and Test Set"
   ]
  },
  {
   "cell_type": "markdown",
   "metadata": {},
   "source": [
    "The global variables are defined in this section. The following methods can access to these parameters. \n",
    "\n",
    "The training data includes 34,275 CAPTCHA images, and the verification data includes 8568 CAPTCHA images. Each image has 280x280 dimensions. For the simplicity, each image contains only one letter with a specific font. The letters consist of 26 lowercase Latin characters. I create the images in grayscale because I want to keep the problem simple. However, the variety of the training set can be increased such as more fonts, colorful images, etc. to find out more patterns.\n",
    "\n",
    "The label is hidden under the image name of the CAPTCHA. An example file name is ′[0]_1.jpg′ . In this case, 0 is the label where 0 symbolize the letter a."
   ]
  },
  {
   "cell_type": "code",
   "execution_count": 86,
   "metadata": {
    "code_folding": []
   },
   "outputs": [
    {
     "name": "stdout",
     "output_type": "stream",
     "text": [
      "Reading training images\n",
      "Loading 0 classes (Index: 0)\n",
      "Loading 1 classes (Index: 1)\n",
      "Loading 2 classes (Index: 2)\n",
      "Loading 3 classes (Index: 3)\n",
      "Loading 4 classes (Index: 4)\n",
      "Loading 5 classes (Index: 5)\n",
      "Loading 6 classes (Index: 6)\n",
      "Loading 7 classes (Index: 7)\n",
      "Loading 8 classes (Index: 8)\n",
      "Loading 9 classes (Index: 9)\n",
      "Loading 10 classes (Index: 10)\n",
      "Loading 11 classes (Index: 11)\n",
      "Loading 12 classes (Index: 12)\n",
      "Loading 13 classes (Index: 13)\n",
      "Loading 14 classes (Index: 14)\n",
      "Loading 15 classes (Index: 15)\n",
      "Loading 16 classes (Index: 16)\n",
      "Loading 17 classes (Index: 17)\n",
      "Loading 18 classes (Index: 18)\n",
      "Loading 19 classes (Index: 19)\n",
      "Loading 20 classes (Index: 20)\n",
      "Loading 21 classes (Index: 21)\n",
      "Loading 22 classes (Index: 22)\n",
      "Loading 23 classes (Index: 23)\n",
      "Loading 24 classes (Index: 24)\n",
      "Loading 25 classes (Index: 25)\n",
      "Size of:\n",
      "- Training-set:\t\t34275\n",
      "- Validation-set:\t8568\n"
     ]
    }
   ],
   "source": [
    "# Number of color channels for the images: 3 channel for RGB 1 channel for Gray Scale.\n",
    "# IMPORTANT NOTE: Update num_channels to 1 if you will use filter else change it to 3\n",
    "num_channels = 1\n",
    "\n",
    "# square image dimensions (N x N) \n",
    "img_size = 50\n",
    "\n",
    "# Size of image when flattened to a single dimension\n",
    "img_size_flat = img_size * img_size * num_channels\n",
    "\n",
    "# Tuple with height and width of images used to reshape arrays.\n",
    "img_shape = (img_size, img_size)\n",
    "\n",
    "# class info\n",
    "# Each class means one char in English Alphabet. 0 symbolise 'a' class for example\n",
    "classes = range(0, 26) \n",
    "num_classes = len(classes)\n",
    "\n",
    "# batch size\n",
    "train_batch_size = 1000 \n",
    "batch_size = train_batch_size\n",
    "\n",
    "# validation split\n",
    "validation_size = .2\n",
    "\n",
    "train_path = 'captchas/train/'\n",
    "checkpoint_dir = \"models/\"\n",
    "\n",
    "data = dataset.read_train_sets(train_path, img_size, classes, validation_size=validation_size)\n",
    "\n",
    "# how long to wait after validation loss stops improving before terminating training\n",
    "early_stopping = None  # use None if you don't want to implement early stoping\n",
    "\n",
    "print(\"Size of:\")\n",
    "print(\"- Training-set:\\t\\t{}\".format(len(data.train.labels)))\n",
    "print(\"- Validation-set:\\t{}\".format(len(data.valid.labels)))"
   ]
  },
  {
   "cell_type": "markdown",
   "metadata": {
    "heading_collapsed": true
   },
   "source": [
    "## Function to Plot Captchas"
   ]
  },
  {
   "cell_type": "markdown",
   "metadata": {
    "hidden": true
   },
   "source": [
    "This helping method plots images 3 by 3. It takes images and its labels as an input. Optionally, it can also have predicted label as an input. "
   ]
  },
  {
   "cell_type": "code",
   "execution_count": 3,
   "metadata": {
    "code_folding": [],
    "collapsed": true,
    "hidden": true
   },
   "outputs": [],
   "source": [
    "def plot_images(images, cls_true, cls_pred=None):\n",
    "    \n",
    "    if len(images) == 0:\n",
    "        print(\"no images to show\")\n",
    "        return \n",
    "    else:\n",
    "        random_indices = random.sample(range(len(images)), min(len(images), 9))\n",
    "        \n",
    "        \n",
    "    images, cls_true  = zip(*[(images[i], cls_true[i]) for i in random_indices])\n",
    "    \n",
    "    # Create figure with 3x3 sub-plots.\n",
    "    fig, axes = plt.subplots(3, 3)\n",
    "    fig.subplots_adjust(hspace=0.3, wspace=0.3)\n",
    "\n",
    "    for i, ax in enumerate(axes.flat):\n",
    "        # Plot image.\n",
    "        ax.imshow(images[i].reshape(img_size, img_size, -1))\n",
    "\n",
    "        # Show true and predicted classes.\n",
    "        if cls_pred is None:\n",
    "            xlabel = \"Label: {0}\".format(cls_true[i])\n",
    "        else:\n",
    "            xlabel = \"Label: {0}, Pred: {1}\".format(cls_true[i], cls_pred[i])\n",
    "\n",
    "        # Show the classes as the label on the x-axis.\n",
    "        ax.set_xlabel(xlabel)\n",
    "        \n",
    "        # Remove ticks from the plot.\n",
    "        ax.set_xticks([])\n",
    "        ax.set_yticks([])\n",
    "    \n",
    "    # Ensure the plot is shown correctly with multiple plots\n",
    "    # in a single Notebook cell.\n",
    "    plt.show()"
   ]
  },
  {
   "cell_type": "markdown",
   "metadata": {
    "hidden": true
   },
   "source": [
    "### Function to Plot Image"
   ]
  },
  {
   "cell_type": "code",
   "execution_count": 4,
   "metadata": {
    "collapsed": true,
    "hidden": true
   },
   "outputs": [],
   "source": [
    "def plot_image(image):\n",
    "    plt.imshow(image)\n",
    "    plt.show()\n",
    "    "
   ]
  },
  {
   "cell_type": "markdown",
   "metadata": {
    "hidden": true
   },
   "source": [
    "### Function to Map Labels"
   ]
  },
  {
   "cell_type": "code",
   "execution_count": 5,
   "metadata": {
    "collapsed": true,
    "hidden": true,
    "scrolled": true
   },
   "outputs": [],
   "source": [
    "def mapLabel(labels): \n",
    "    # Dict object that has ref numbers of letters on keys and chars on values such as {0:'a', 1:'b', ..}\n",
    "    mapDict = dict(zip([ord(c)%32-1 for c in string.lowercase],string.lowercase))\n",
    "    mappedLabels = [mapDict[label] for label in labels]\n",
    "    return mappedLabels"
   ]
  },
  {
   "cell_type": "markdown",
   "metadata": {
    "hidden": true
   },
   "source": [
    "### Plot 9 Samples from Train Data"
   ]
  },
  {
   "cell_type": "markdown",
   "metadata": {
    "hidden": true
   },
   "source": [
    "Show 9 different samples to check whether their labels are correct. 'c' is labelled as 2, it means that it is correctly labeled because it is the 3rd letter in English alphabet."
   ]
  },
  {
   "cell_type": "code",
   "execution_count": 6,
   "metadata": {
    "code_folding": [],
    "hidden": true
   },
   "outputs": [
    {
     "data": {
      "image/png": "[encoded data removed]",
      "text/plain": [
       "<matplotlib.figure.Figure at 0x1818f500d0>"
      ]
     },
     "metadata": {},
     "output_type": "display_data"
    }
   ],
   "source": [
    "# From train set get sample images and its labels\n",
    "images, cls_true  = data.train.images, data.train.cls\n",
    "\n",
    "# Plot the images and its labels\n",
    "plot_images(images=images, cls_true=mapLabeel(cls_true))"
   ]
  },
  {
   "cell_type": "markdown",
   "metadata": {},
   "source": [
    "# TENSOR FLOW"
   ]
  },
  {
   "cell_type": "markdown",
   "metadata": {},
   "source": [
    "For the neural network implementation, I prefer to use tensor flow library. It is an open source software library designed by Google Brain Team. Originally, it is written in C++ but in this project I will use Tensor Flows python wrapper. "
   ]
  },
  {
   "cell_type": "code",
   "execution_count": 7,
   "metadata": {
    "collapsed": true
   },
   "outputs": [],
   "source": [
    "tf.set_random_seed(61) # Define a random seed to find replicable solutions at each run of this project\n"
   ]
  },
  {
   "cell_type": "markdown",
   "metadata": {},
   "source": [
    "## Place Holder Variables"
   ]
  },
  {
   "cell_type": "markdown",
   "metadata": {},
   "source": [
    "This place holder does not have any input for now. It indicates the general structure of the X and y values. This placeholders will be filled by the train and label data at the following sections."
   ]
  },
  {
   "cell_type": "code",
   "execution_count": 8,
   "metadata": {},
   "outputs": [
    {
     "name": "stdout",
     "output_type": "stream",
     "text": [
      "WARNING:tensorflow:From <ipython-input-8-a669521684f9>:4: calling argmax (from tensorflow.python.ops.math_ops) with dimension is deprecated and will be removed in a future version.\n",
      "Instructions for updating:\n",
      "Use the `axis` argument instead\n"
     ]
    }
   ],
   "source": [
    "x = tf.placeholder(tf.float32, shape=[None, img_size_flat], name='x') # Images\n",
    "x_image = tf.reshape(x, [-1, img_size, img_size, num_channels]) # Re-shape Images\n",
    "y_true = tf.placeholder(tf.float32, shape=[None, num_classes], name='y_true')\n",
    "y_true_cls = tf.argmax(y_true, dimension=1)\n"
   ]
  },
  {
   "cell_type": "markdown",
   "metadata": {},
   "source": [
    "## Building Convolutional Neural Network Graph"
   ]
  },
  {
   "cell_type": "markdown",
   "metadata": {},
   "source": [
    "In this project, I prefer to use convolutional neural networks (CNN) to break CAPTCHA by using TENSORFLOW library. It is a state of the art algorithm for image classification, and it needs less preprocessing compared to other classification algorithms. It is also much faster than dense neural networks because it requires fewer weights and the number of necessary hidden fully connected layers are less.\n",
    "\n",
    "The main advantage of this algorithm is that it can find high-level features automatically. This is a good aspect of our project because the CAPTCHA images are very noisy.\n",
    "\n",
    "The algorithm has five main layers which are convolutional, pooling, fully connected and prediction layers. Each layer also may have multiple sub-layers."
   ]
  },
  {
   "cell_type": "markdown",
   "metadata": {},
   "source": [
    "### Convolutional Layer & Pooling 1"
   ]
  },
  {
   "cell_type": "markdown",
   "metadata": {},
   "source": [
    "The primary duty of convolutional layer is to find out the pixel patterns in image classification. If one applies more filters than the probability of finding different patterns increase but the execution time of the algorithm decreases. Convolution layer has kernel parameters, and each kernel helps algorithm to see the patterns.\n",
    "\n",
    "In this project, I use three convolutional layers and 5x5 kernel matrices at all layers.\n",
    "\n",
    "Before applying the convolutional layer, I resize the train and validation set images from 280x280x3 shape to 50x50x3.\n",
    "These resized train images constitute the input of the 1st convolutional layer. The smaller images are better concerning execution time because more dimensions mean more convolution operation for the fixed kernel size. Note that, you may also lose some information if you make image dimensions very small. So, there is a trade-off between execution time and missing data.\n",
    "\n",
    "For the number of filters, I plan to use 32 filters to find out the patterns of the image.\n",
    "\n",
    "The pooling layer comes after each convolutional layer to reduce the dimension of the convolutional layer output. I use two by two filter matrix and set the stride parameter to two. It means that this layer divides the output of the convolutional layer into 2x2 pixel matrices and these matrices should not intersect because the stride is two. After division, from each split matrix, only maximum pixel value can pass, and all the others are filtered out. So, from 4 value only one value can , and it reduces the dimension four times. For example, after applying pooling layer on top the 1st convolutional layer, the matrix shape will drop from 50x50x32 to 25x25x32.\n"
   ]
  },
  {
   "cell_type": "code",
   "execution_count": 43,
   "metadata": {},
   "outputs": [
    {
     "name": "stdout",
     "output_type": "stream",
     "text": [
      "(?, 50, 50, 1)\n",
      "Tensor(\"conv2d_3/Relu:0\", shape=(?, 50, 50, 32), dtype=float32)\n",
      "Tensor(\"max_pooling2d_3/MaxPool:0\", shape=(?, 25, 25, 32), dtype=float32)\n"
     ]
    }
   ],
   "source": [
    "# Convolutional Layer #1\n",
    "conv1 = tf.layers.conv2d(\n",
    "    inputs=x_image,\n",
    "    filters=32,\n",
    "    kernel_size=[5, 5],\n",
    "    padding=\"same\",\n",
    "    activation=tf.nn.relu)\n",
    "\n",
    "# Pooling Layer #1\n",
    "# First max pooling layer with a 2x2 filter and stride of 2\n",
    "pool1 = tf.layers.max_pooling2d(inputs=conv1, pool_size=[2, 2], strides=2)\n",
    "print(x_image.shape)\n",
    "print(conv1)\n",
    "print(pool1)"
   ]
  },
  {
   "cell_type": "markdown",
   "metadata": {},
   "source": [
    "### Convolutional Layer & Pooling 2"
   ]
  },
  {
   "cell_type": "markdown",
   "metadata": {},
   "source": [
    "Differently, from the 1st convolutional layer, I applied 64 filters instead of 32. The reason is that the input image dimension of the 2nd convolutional layer is 25x25x32 while the input image shape of the 1st convolutional layer is 50x50x3 (skipping pooling effect for now). Because the shape is bigger, I increase the number of filters to find more patterns."
   ]
  },
  {
   "cell_type": "code",
   "execution_count": 10,
   "metadata": {},
   "outputs": [
    {
     "name": "stdout",
     "output_type": "stream",
     "text": [
      "Tensor(\"conv2d_1/Relu:0\", shape=(?, 25, 25, 64), dtype=float32)\n",
      "Tensor(\"max_pooling2d_1/MaxPool:0\", shape=(?, 12, 12, 64), dtype=float32)\n"
     ]
    }
   ],
   "source": [
    "# Convolutional Layer #2\n",
    "# Computes 64 features using a 5x5 filter.\n",
    "conv2 = tf.layers.conv2d(\n",
    "    inputs=pool1,\n",
    "    filters=64,\n",
    "    kernel_size=[5, 5],\n",
    "    padding=\"same\",\n",
    "    activation=tf.nn.relu)\n",
    "\n",
    "# Pooling Layer #2\n",
    "# Second max pooling layer with a 2x2 filter and stride of 2\n",
    "pool2 = tf.layers.max_pooling2d(inputs=conv2, pool_size=[2, 2], strides=2)\n",
    "\n",
    "print(conv2)\n",
    "print(pool2)"
   ]
  },
  {
   "cell_type": "markdown",
   "metadata": {},
   "source": [
    "### Convolutional Layer & Pooling 3"
   ]
  },
  {
   "cell_type": "code",
   "execution_count": 11,
   "metadata": {},
   "outputs": [
    {
     "name": "stdout",
     "output_type": "stream",
     "text": [
      "Tensor(\"conv2d_2/Relu:0\", shape=(?, 12, 12, 64), dtype=float32)\n",
      "Tensor(\"max_pooling2d_2/MaxPool:0\", shape=(?, 6, 6, 64), dtype=float32)\n"
     ]
    }
   ],
   "source": [
    "# Convolutional Layer #3\n",
    "# Computes 64 features using a 5x5 filter.\n",
    "conv3 = tf.layers.conv2d(\n",
    "    inputs=pool2,\n",
    "    filters=64,\n",
    "    kernel_size=[5, 5],\n",
    "    padding=\"same\",\n",
    "    activation=tf.nn.relu)\n",
    "\n",
    "# Pooling Layer #2\n",
    "# Second max pooling layer with a 2x2 filter and stride of 2\n",
    "pool3 = tf.layers.max_pooling2d(inputs=conv3, pool_size=[2, 2], strides=2)\n",
    "\n",
    "print(conv3)\n",
    "print(pool3)"
   ]
  },
  {
   "cell_type": "markdown",
   "metadata": {},
   "source": [
    "### Flatten Layer"
   ]
  },
  {
   "cell_type": "markdown",
   "metadata": {},
   "source": [
    "After the 3rd pooling layer, the output matrix has 6x6x64 dimensions, and we need to give this matrix to a dense neural network as an input to train our algorithm. The dense neural network only accepts vectors as input. So, at this step, we convert the three-dimensional matrix to a vector."
   ]
  },
  {
   "cell_type": "code",
   "execution_count": 12,
   "metadata": {},
   "outputs": [
    {
     "data": {
      "text/plain": [
       "<tf.Tensor 'Reshape_1:0' shape=(?, 2304) dtype=float32>"
      ]
     },
     "execution_count": 12,
     "metadata": {},
     "output_type": "execute_result"
    }
   ],
   "source": [
    "# Flatten tensor into a batch of vectors\n",
    "# Input Tensor Shape: [batch_size, 7, 7, 64]\n",
    "# Output Tensor Shape: [batch_size, 7 * 7 * 64]\n",
    "pool3_flat = tf.reshape(pool3, [-1, pool3.shape[1].value * pool3.shape[2].value * pool3.shape[3].value])\n",
    "pool3_flat"
   ]
  },
  {
   "cell_type": "markdown",
   "metadata": {},
   "source": [
    "### Fully Connected Layer 1"
   ]
  },
  {
   "cell_type": "markdown",
   "metadata": {},
   "source": [
    "There are two fully connected layers in this network, and the first layer has 1024 neurons. In this layer, there is a 40% drop out rate to overcome the over-fitting problem. The activation function of this layer is ReLU to handle non-linear relationships.\n",
    "The second fully connected layer has 26 neurons because we have 26 classes to predict. Each neuron is dedicated to one class."
   ]
  },
  {
   "cell_type": "code",
   "execution_count": 13,
   "metadata": {},
   "outputs": [
    {
     "data": {
      "text/plain": [
       "<tf.Tensor 'dense/Relu:0' shape=(?, 1024) dtype=float32>"
      ]
     },
     "execution_count": 13,
     "metadata": {},
     "output_type": "execute_result"
    }
   ],
   "source": [
    "# Dense Layer\n",
    "# Densely connected layer with 1024 neurons\n",
    "# Input Tensor Shape: [batch_size, 7 * 7 * 64]\n",
    "# Output Tensor Shape: [batch_size, 1024]\n",
    "fc_layer1 = tf.layers.dense(inputs=pool3_flat, units=1024, activation=tf.nn.relu)\n",
    "fc_layer1"
   ]
  },
  {
   "cell_type": "markdown",
   "metadata": {},
   "source": [
    "### Fully Connected Layer 2"
   ]
  },
  {
   "cell_type": "code",
   "execution_count": 14,
   "metadata": {},
   "outputs": [
    {
     "data": {
      "text/plain": [
       "<tf.Tensor 'dense_1/BiasAdd:0' shape=(?, 26) dtype=float32>"
      ]
     },
     "execution_count": 14,
     "metadata": {},
     "output_type": "execute_result"
    }
   ],
   "source": [
    "# Add dropout operation; 0.6 probability that element will be kept\n",
    "dropout = tf.layers.dropout(\n",
    "    inputs=fc_layer1, rate=0.4)\n",
    "\n",
    "# Logits layer\n",
    "# Input Tensor Shape: [batch_size, 1024]\n",
    "# Output Tensor Shape: [batch_size, 10]\n",
    "logits = tf.layers.dense(inputs=dropout, units= num_classes)\n",
    "logits"
   ]
  },
  {
   "cell_type": "markdown",
   "metadata": {},
   "source": [
    "### Prediction Layer"
   ]
  },
  {
   "cell_type": "markdown",
   "metadata": {},
   "source": [
    "This layer calculates the probability of each class based on the weights coming from the 2nd fully connected layer. After it calculates all the probabilities, it returns the class that has the highest probability.\n"
   ]
  },
  {
   "cell_type": "code",
   "execution_count": 15,
   "metadata": {
    "collapsed": true
   },
   "outputs": [],
   "source": [
    "y_pred = tf.nn.softmax(logits)\n",
    "y_pred_cls = tf.argmax(y_pred, dimension=1)"
   ]
  },
  {
   "cell_type": "markdown",
   "metadata": {},
   "source": [
    "### Cost Function"
   ]
  },
  {
   "cell_type": "markdown",
   "metadata": {},
   "source": [
    "The cost function of this network is cross entropy. It is a widely used error function in CNN for classification problems. It has some advantages over mean squared error or classification accuracy because it considers the probability distributions of the classes."
   ]
  },
  {
   "cell_type": "code",
   "execution_count": 16,
   "metadata": {
    "collapsed": true
   },
   "outputs": [],
   "source": [
    "cross_entropy = tf.nn.softmax_cross_entropy_with_logits_v2(logits=logits,\n",
    "                                                        labels=y_true)\n",
    "cost = tf.reduce_mean(cross_entropy)"
   ]
  },
  {
   "cell_type": "markdown",
   "metadata": {},
   "source": [
    "### Optimisation Method"
   ]
  },
  {
   "cell_type": "markdown",
   "metadata": {},
   "source": [
    "The main purpose of the model is to minimize the cost function. In this optimization problem, our objective is cross entropy function. We also know that weights of the hidden layers have a direct effect on objective function. Thus, weights are our decision variables and they need to be adjusted to optimize objective. I use Adam Optimizer as an optimization method. This optimizer is an extended version of the classical stochastic gradient descent algorithm. Adam algorithm maintains the learning rate for each network weight. So, it converges faster than gradient descent algorithm because it uses fixed learning rate."
   ]
  },
  {
   "cell_type": "code",
   "execution_count": 17,
   "metadata": {
    "collapsed": true
   },
   "outputs": [],
   "source": [
    "optimizer = tf.train.AdamOptimizer(learning_rate=1e-4).minimize(cost)"
   ]
  },
  {
   "cell_type": "markdown",
   "metadata": {},
   "source": [
    "### Performance Measures"
   ]
  },
  {
   "cell_type": "code",
   "execution_count": 18,
   "metadata": {
    "collapsed": true
   },
   "outputs": [],
   "source": [
    "correct_prediction = tf.equal(y_pred_cls, y_true_cls)\n",
    "accuracy = tf.reduce_mean(tf.cast(correct_prediction, tf.float32))"
   ]
  },
  {
   "cell_type": "markdown",
   "metadata": {},
   "source": [
    "## Filter Captchas"
   ]
  },
  {
   "cell_type": "markdown",
   "metadata": {},
   "source": []
  },
  {
   "cell_type": "markdown",
   "metadata": {},
   "source": [
    "### Function to Filter Captchas"
   ]
  },
  {
   "cell_type": "code",
   "execution_count": 59,
   "metadata": {
    "collapsed": true
   },
   "outputs": [],
   "source": [
    "def filterImages(im_ids, path):\n",
    "    filtered_train_images= list()\n",
    "    for im_id in im_ids:\n",
    "        im_path = join(getcwd(), path + im_id) # Create path\n",
    "        im = cv2.imread(im_path) # Read Image\n",
    "        im = cv2.resize(im, (img_size, img_size), cv2.INTER_LINEAR) # Resize Image\n",
    "        gray = cv2.cvtColor(im, cv2.COLOR_BGR2GRAY) # Set Gray Color\n",
    "        _, thresh = cv2.threshold(gray, 248, 255, cv2.THRESH_BINARY_INV) # Set Threshold\n",
    "        filtered = thresh\n",
    "        _, contours, _ = cv2.findContours(filtered, cv2.RETR_LIST, cv2.CHAIN_APPROX_SIMPLE)\n",
    "        mask = np.ones(filtered.shape[:2], dtype=\"uint8\") * 255\n",
    "        i = 0\n",
    "        for cnt in contours:\n",
    "            area = cv2.contourArea(cnt)\n",
    "            if  area < 4:\n",
    "                cv2.drawContours(mask, [cnt], -1, 0, -1)\n",
    "                \n",
    "        filtered = cv2.bitwise_and(filtered, filtered, mask=mask)       \n",
    "        \n",
    "        filtered_train_images.append(filtered) # Add images into filtered_train_images\n",
    "    filtered_train_images = np.array(filtered_train_images)\n",
    "    return filtered_train_images"
   ]
  },
  {
   "cell_type": "markdown",
   "metadata": {},
   "source": [
    "### Plot 9 Random Images of Filtered Train Images"
   ]
  },
  {
   "cell_type": "code",
   "execution_count": 62,
   "metadata": {},
   "outputs": [
    {
     "data": {
      "image/png": "[encoded data removed]",
      "text/plain": [
       "<matplotlib.figure.Figure at 0x1a21e49890>"
      ]
     },
     "metadata": {},
     "output_type": "display_data"
    },
    {
     "name": "stdout",
     "output_type": "stream",
     "text": [
      "Label v\n"
     ]
    },
    {
     "data": {
      "image/png": "[encoded data removed]",
      "text/plain": [
       "<matplotlib.figure.Figure at 0x1a1dc71ad0>"
      ]
     },
     "metadata": {},
     "output_type": "display_data"
    },
    {
     "name": "stdout",
     "output_type": "stream",
     "text": [
      "Label n\n"
     ]
    },
    {
     "data": {
      "image/png": "[encoded data removed]",
      "text/plain": [
       "<matplotlib.figure.Figure at 0x1a2234f890>"
      ]
     },
     "metadata": {},
     "output_type": "display_data"
    },
    {
     "name": "stdout",
     "output_type": "stream",
     "text": [
      "Label v\n"
     ]
    },
    {
     "data": {
      "image/png": "[encoded data removed]",
      "text/plain": [
       "<matplotlib.figure.Figure at 0x1a1e033d10>"
      ]
     },
     "metadata": {},
     "output_type": "display_data"
    },
    {
     "name": "stdout",
     "output_type": "stream",
     "text": [
      "Label k\n"
     ]
    },
    {
     "data": {
      "image/png": "[encoded data removed]",
      "text/plain": [
       "<matplotlib.figure.Figure at 0x1a1dc0ba50>"
      ]
     },
     "metadata": {},
     "output_type": "display_data"
    },
    {
     "name": "stdout",
     "output_type": "stream",
     "text": [
      "Label g\n"
     ]
    },
    {
     "data": {
      "image/png": "[encoded data removed]",
      "text/plain": [
       "<matplotlib.figure.Figure at 0x1a1dbcff50>"
      ]
     },
     "metadata": {},
     "output_type": "display_data"
    },
    {
     "name": "stdout",
     "output_type": "stream",
     "text": [
      "Label u\n"
     ]
    },
    {
     "data": {
      "image/png": "[encoded data removed]",
      "text/plain": [
       "<matplotlib.figure.Figure at 0x1a21248050>"
      ]
     },
     "metadata": {},
     "output_type": "display_data"
    },
    {
     "name": "stdout",
     "output_type": "stream",
     "text": [
      "Label k\n"
     ]
    },
    {
     "data": {
      "image/png": "[encoded data removed]",
      "text/plain": [
       "<matplotlib.figure.Figure at 0x1a1e49ff90>"
      ]
     },
     "metadata": {},
     "output_type": "display_data"
    },
    {
     "name": "stdout",
     "output_type": "stream",
     "text": [
      "Label i\n"
     ]
    },
    {
     "data": {
      "image/png": "[encoded data removed]",
      "text/plain": [
       "<matplotlib.figure.Figure at 0x1a2252dcd0>"
      ]
     },
     "metadata": {},
     "output_type": "display_data"
    },
    {
     "name": "stdout",
     "output_type": "stream",
     "text": [
      "Label v\n"
     ]
    },
    {
     "data": {
      "image/png": "[encoded data removed]",
      "text/plain": [
       "<matplotlib.figure.Figure at 0x1a1daccdd0>"
      ]
     },
     "metadata": {},
     "output_type": "display_data"
    },
    {
     "name": "stdout",
     "output_type": "stream",
     "text": [
      "Label h\n"
     ]
    }
   ],
   "source": [
    "# Plot random 10 images and its labels\n",
    "random.seed(61)\n",
    "random10Ids = [random.randint(1, len(data.train.labels)-1) for _ in range(0,10)]\n",
    "filtered_train_images = filterImages(data.train.ids[random10Ids],train_path)\n",
    "for i in range(0,10):\n",
    "    plot_image(filtered_train_images[i])\n",
    "    print('Label %s' % mapLabel(data.train.cls)[random10Ids[i]])"
   ]
  },
  {
   "cell_type": "markdown",
   "metadata": {},
   "source": [
    "## Running Tensor Flow"
   ]
  },
  {
   "cell_type": "code",
   "execution_count": 19,
   "metadata": {
    "collapsed": true
   },
   "outputs": [],
   "source": [
    "session = tf.Session()\n",
    "session.run(tf.global_variables_initializer())\n"
   ]
  },
  {
   "cell_type": "markdown",
   "metadata": {},
   "source": [
    "### Optimisation Function"
   ]
  },
  {
   "cell_type": "code",
   "execution_count": 23,
   "metadata": {
    "collapsed": true
   },
   "outputs": [],
   "source": [
    "# Counter for total number of iterations performed so far.\n",
    "total_iterations = 0\n",
    "def print_optimisation_progress(epoch, feed_dict_train, feed_dict_validate, val_loss):\n",
    "    # Calculate the accuracy on the training-set.\n",
    "    acc = session.run(accuracy, feed_dict=feed_dict_train)\n",
    "    val_acc = session.run(accuracy, feed_dict=feed_dict_validate)\n",
    "    msg = \"Epoch {0} --- Training Accuracy: {1:>6.1%}, Validation Accuracy: {2:>6.1%}, Validation Loss: {3:.3f}\"\n",
    "    print(msg.format(epoch + 1, acc, val_acc, val_loss))\n",
    "    \n",
    "def optimize(num_iterations, useFilter = False):\n",
    "    \n",
    "    # update the global variable instead of a local variable.\n",
    "    global total_iterations\n",
    "    print('Total Iterations are %s' % str(total_iterations))\n",
    "    # Start-time used for printing time-usage below.\n",
    "    start_time = time.time()\n",
    "    \n",
    "    best_val_loss = float(\"inf\")\n",
    "    patience = 0\n",
    "\n",
    "    for i in range(total_iterations,\n",
    "                   total_iterations + num_iterations):\n",
    "        # Get a batch of training examples.\n",
    "        # x_batch now holds a batch of images and\n",
    "        # y_true_batch are the true labels for those images.\n",
    "        x_batch, y_true_batch, x_batch_ids, cls_batch = data.train.next_batch(train_batch_size)\n",
    "        x_valid_batch, y_valid_batch, x_valid_ids, valid_cls_batch = data.valid.next_batch(train_batch_size)\n",
    "\n",
    "        if useFilter:\n",
    "            x_batch = filterImages(x_batch_ids, train_path) # Filter train batch\n",
    "            x_valid_batch = filterImages(x_valid_ids, train_path) # Filter test batch\n",
    "            # Convert shape from [num examples, rows, columns, depth]\n",
    "            # to [num examples, flattened image shape]  \n",
    "            x_batch = x_batch.reshape(train_batch_size, img_size_flat)\n",
    "            x_valid_batch = x_valid_batch.reshape(train_batch_size, img_size_flat)\n",
    "     \n",
    "        if not useFilter:\n",
    "            # Convert shape from [num examples, rows, columns, depth]\n",
    "            # to [num examples, flattened image shape]  \n",
    "            x_batch = x_batch.reshape(train_batch_size, img_size_flat)\n",
    "            print(x_batch.shape)\n",
    "            x_valid_batch = x_valid_batch.reshape(train_batch_size, img_size_flat)\n",
    "\n",
    "        # Put the batch into a dict with the proper names\n",
    "        # for placeholder variables in the TensorFlow graph.\n",
    "        feed_dict_train = {x: x_batch,\n",
    "                           y_true: y_true_batch}\n",
    "        \n",
    "        feed_dict_validate = {x: x_valid_batch,\n",
    "                              y_true: y_valid_batch}\n",
    "\n",
    "        # Run the optimizer using this batch of training data.\n",
    "        # TensorFlow assigns the variables in feed_dict_train\n",
    "        # to the placeholder variables and then runs the optimizer.\n",
    "        session.run(optimizer, feed_dict=feed_dict_train)\n",
    "        \n",
    "\n",
    "        # Print status at end of each epoch (defined as full pass through training dataset).\n",
    "        if i % int(data.train.num_examples/batch_size) == 0: \n",
    "            val_loss = session.run(cost, feed_dict=feed_dict_validate)\n",
    "            epoch = int(i / int(data.train.num_examples/batch_size))\n",
    "            \n",
    "            print_optimisation_progress(epoch, feed_dict_train, feed_dict_validate, val_loss)\n",
    "            \n",
    "            if early_stopping:    \n",
    "                if val_loss < best_val_loss:\n",
    "                    best_val_loss = val_loss\n",
    "                    patience = 0\n",
    "                else:\n",
    "                    patience += 1\n",
    "\n",
    "                if patience == early_stopping:\n",
    "                    break\n",
    "\n",
    "    # Update the total number of iterations performed.\n",
    "    total_iterations += num_iterations\n",
    "\n",
    "    # Ending time.\n",
    "    end_time = time.time()\n",
    "\n",
    "    # Difference between start and end-times.\n",
    "    time_dif = end_time - start_time\n",
    "\n",
    "    # Print the time-usage.\n",
    "    print(\"Time elapsed: \" + str(timedelta(seconds=int(round(time_dif)))))\n"
   ]
  },
  {
   "cell_type": "markdown",
   "metadata": {},
   "source": [
    "## Training With Filtering"
   ]
  },
  {
   "cell_type": "markdown",
   "metadata": {},
   "source": [
    "In this section, I train the CNN model with the filtered images. As I explained before CAPTCHA is a Turing Test and during the creation of the CAPTCHA images a lot of noises are added to CAPTCHA images to make recognition harder for the computers but not for the humans. So, there are a lot of dots, meaningless shapes and lines apart from the letters. My purpose is to detect all the meaningless shapes and filter them out.\n",
    "\n",
    "Even if training data seems in grayscale, it has three channels which are red, green and blue. I first convert three channel to one channel in grayscale to save memory. After, I set a binary threshold to the images. It means that pixels can be either black or white. There cannot be any color in-between. I then find all the contours at a particular image. It sees all the dots, lines, letters and meaningless other shapes. The primary purpose is to keep letters and remove all the other contours. At this point, I calculate the area of each contour and eliminate the contours that have less than a particular area. Thanks to this method, I remove most of the noises from the training images.\n",
    "\n",
    "After filtering, the model is trained in 800 iterations. At this time, it converges much earlier. The best final performance metrics for training accuracy is 98.7%, 98.6% for validation accuracy, 0.033 for validation loss. The last 10 epochs results are shared below. As you can see from the figure 4, the metrics are converged."
   ]
  },
  {
   "cell_type": "markdown",
   "metadata": {
    "heading_collapsed": true
   },
   "source": [
    "### Performance after 100 optimization iteration for filtered"
   ]
  },
  {
   "cell_type": "code",
   "execution_count": 24,
   "metadata": {
    "hidden": true,
    "scrolled": true
   },
   "outputs": [
    {
     "name": "stdout",
     "output_type": "stream",
     "text": [
      "Total Iterations are 0\n",
      "Epoch 1 --- Training Accuracy:   2.1%, Validation Accuracy:   1.9%, Validation Loss: 12.828\n",
      "Epoch 2 --- Training Accuracy:  73.6%, Validation Accuracy:  73.6%, Validation Loss: 0.805\n",
      "Epoch 3 --- Training Accuracy:  93.9%, Validation Accuracy:  93.3%, Validation Loss: 0.234\n",
      "Time elapsed: 0:22:06\n"
     ]
    }
   ],
   "source": [
    "optimize(num_iterations=100, useFilter = True)\n"
   ]
  },
  {
   "cell_type": "markdown",
   "metadata": {
    "heading_collapsed": true
   },
   "source": [
    "### Performance after 400 optimization iteration for filtered"
   ]
  },
  {
   "cell_type": "code",
   "execution_count": 40,
   "metadata": {
    "hidden": true
   },
   "outputs": [
    {
     "name": "stdout",
     "output_type": "stream",
     "text": [
      "Total Iterations are 100\n",
      "Epoch 4 --- Training Accuracy:  96.8%, Validation Accuracy:  96.8%, Validation Loss: 0.164\n",
      "Epoch 5 --- Training Accuracy:  98.2%, Validation Accuracy:  97.2%, Validation Loss: 0.122\n",
      "Epoch 6 --- Training Accuracy:  98.3%, Validation Accuracy:  97.6%, Validation Loss: 0.101\n",
      "Epoch 7 --- Training Accuracy:  98.5%, Validation Accuracy:  98.2%, Validation Loss: 0.092\n",
      "Epoch 8 --- Training Accuracy:  98.6%, Validation Accuracy:  97.7%, Validation Loss: 0.098\n",
      "Epoch 9 --- Training Accuracy:  98.7%, Validation Accuracy:  97.9%, Validation Loss: 0.073\n",
      "Epoch 10 --- Training Accuracy:  98.7%, Validation Accuracy:  98.1%, Validation Loss: 0.051\n",
      "Epoch 11 --- Training Accuracy:  98.7%, Validation Accuracy:  98.3%, Validation Loss: 0.047\n",
      "Epoch 12 --- Training Accuracy:  98.7%, Validation Accuracy:  97.7%, Validation Loss: 0.057\n",
      "Time elapsed: 1:07:46\n"
     ]
    }
   ],
   "source": [
    "optimize(num_iterations=300, useFilter = True)"
   ]
  },
  {
   "cell_type": "markdown",
   "metadata": {},
   "source": [
    "### Performance after 800 optimization iteration for filtered"
   ]
  },
  {
   "cell_type": "code",
   "execution_count": 41,
   "metadata": {},
   "outputs": [
    {
     "name": "stdout",
     "output_type": "stream",
     "text": [
      "Total Iterations are 400\n",
      "Epoch 13 --- Training Accuracy:  98.7%, Validation Accuracy:  98.0%, Validation Loss: 0.053\n",
      "Epoch 14 --- Training Accuracy:  98.7%, Validation Accuracy:  98.3%, Validation Loss: 0.038\n",
      "Epoch 15 --- Training Accuracy:  98.7%, Validation Accuracy:  98.4%, Validation Loss: 0.041\n",
      "Epoch 16 --- Training Accuracy:  98.7%, Validation Accuracy:  97.8%, Validation Loss: 0.056\n",
      "Epoch 17 --- Training Accuracy:  98.7%, Validation Accuracy:  98.0%, Validation Loss: 0.048\n",
      "Epoch 18 --- Training Accuracy:  98.7%, Validation Accuracy:  98.4%, Validation Loss: 0.034\n",
      "Epoch 19 --- Training Accuracy:  98.7%, Validation Accuracy:  98.5%, Validation Loss: 0.036\n",
      "Epoch 20 --- Training Accuracy:  98.7%, Validation Accuracy:  97.8%, Validation Loss: 0.055\n",
      "Epoch 21 --- Training Accuracy:  98.7%, Validation Accuracy:  98.2%, Validation Loss: 0.045\n",
      "Epoch 22 --- Training Accuracy:  98.7%, Validation Accuracy:  98.4%, Validation Loss: 0.033\n",
      "Epoch 23 --- Training Accuracy:  98.7%, Validation Accuracy:  98.6%, Validation Loss: 0.033\n",
      "Epoch 24 --- Training Accuracy:  98.7%, Validation Accuracy:  97.8%, Validation Loss: 0.054\n",
      "Time elapsed: 1:51:52\n"
     ]
    }
   ],
   "source": [
    "optimize(num_iterations=400, useFilter = True)"
   ]
  },
  {
   "cell_type": "markdown",
   "metadata": {},
   "source": [
    "## Training Without Filtering"
   ]
  },
  {
   "cell_type": "markdown",
   "metadata": {},
   "source": [
    "After building the convolutional neural network, I start training the model. As I mentioned before, our train set has 40,000 CAPTCHA images. I use 80% of this data as train set and the remaining as validation set.\n",
    "At this section, I keep the noises at the training set. It means that I did not apply any preprocessing or filtering to the training images.\n",
    "\n",
    "I set the learning rate as 10e − 4 and make 1000 iterations to optimize cross entropy function. Based on these parameters, I obtained 98.7% training accuracy, 98.3% validation accuracy and 0.050% validation loss. The model trained in 2 hours and 40 minutes with dual 2 GHz Intel Core i5. Note that because I do not have a dedicated GPU, I used CPU.\n",
    "\n",
    "At the end of 1000 iterations, the model still did not converge because the objective function value keeps decreasing. The last 10 epochs results are shared below.\n"
   ]
  },
  {
   "cell_type": "markdown",
   "metadata": {},
   "source": [
    "### Performance after 1000 optimization iteration for not filtered"
   ]
  },
  {
   "cell_type": "code",
   "execution_count": 42,
   "metadata": {},
   "outputs": [
    {
     "name": "stdout",
     "output_type": "stream",
     "text": [
      "Epoch 4 --- Training Accuracy:  78.4%, Validation Accuracy:  75.3%, Validation Loss: 0.948\n",
      "Epoch 5 --- Training Accuracy:  85.1%, Validation Accuracy:  81.3%, Validation Loss: 0.657\n",
      "Epoch 6 --- Training Accuracy:  88.3%, Validation Accuracy:  89.1%, Validation Loss: 0.426\n",
      "Epoch 7 --- Training Accuracy:  91.2%, Validation Accuracy:  89.1%, Validation Loss: 0.389\n",
      "Epoch 8 --- Training Accuracy:  92.0%, Validation Accuracy:  90.5%, Validation Loss: 0.342\n",
      "Epoch 9 --- Training Accuracy:  93.3%, Validation Accuracy:  91.4%, Validation Loss: 0.293\n",
      "Epoch 10 --- Training Accuracy:  94.5%, Validation Accuracy:  94.4%, Validation Loss: 0.198\n",
      "Epoch 11 --- Training Accuracy:  95.2%, Validation Accuracy:  94.1%, Validation Loss: 0.222\n",
      "Epoch 12 --- Training Accuracy:  96.1%, Validation Accuracy:  93.9%, Validation Loss: 0.206\n",
      "Epoch 13 --- Training Accuracy:  96.2%, Validation Accuracy:  94.7%, Validation Loss: 0.180\n",
      "Epoch 14 --- Training Accuracy:  96.4%, Validation Accuracy:  96.6%, Validation Loss: 0.119\n",
      "Epoch 15 --- Training Accuracy:  96.7%, Validation Accuracy:  95.1%, Validation Loss: 0.156\n",
      "Epoch 16 --- Training Accuracy:  97.2%, Validation Accuracy:  95.2%, Validation Loss: 0.152\n",
      "Epoch 17 --- Training Accuracy:  97.5%, Validation Accuracy:  95.6%, Validation Loss: 0.134\n",
      "Epoch 18 --- Training Accuracy:  98.0%, Validation Accuracy:  97.6%, Validation Loss: 0.083\n",
      "Epoch 19 --- Training Accuracy:  98.1%, Validation Accuracy:  97.3%, Validation Loss: 0.109\n",
      "Epoch 20 --- Training Accuracy:  98.3%, Validation Accuracy:  96.6%, Validation Loss: 0.116\n",
      "Epoch 21 --- Training Accuracy:  98.7%, Validation Accuracy:  96.6%, Validation Loss: 0.106\n",
      "Epoch 22 --- Training Accuracy:  98.6%, Validation Accuracy:  98.0%, Validation Loss: 0.066\n",
      "Epoch 23 --- Training Accuracy:  98.6%, Validation Accuracy:  97.4%, Validation Loss: 0.087\n",
      "Epoch 24 --- Training Accuracy:  98.6%, Validation Accuracy:  97.0%, Validation Loss: 0.094\n",
      "Epoch 25 --- Training Accuracy:  98.6%, Validation Accuracy:  97.3%, Validation Loss: 0.086\n",
      "Epoch 26 --- Training Accuracy:  98.6%, Validation Accuracy:  98.1%, Validation Loss: 0.057\n",
      "Epoch 27 --- Training Accuracy:  98.7%, Validation Accuracy:  97.5%, Validation Loss: 0.073\n",
      "Epoch 28 --- Training Accuracy:  98.7%, Validation Accuracy:  97.2%, Validation Loss: 0.078\n",
      "Epoch 29 --- Training Accuracy:  98.8%, Validation Accuracy:  97.8%, Validation Loss: 0.072\n",
      "Epoch 30 --- Training Accuracy:  98.7%, Validation Accuracy:  98.3%, Validation Loss: 0.050\n",
      "Time elapsed: 2:21:37\n"
     ]
    }
   ],
   "source": [
    "optimize(num_iterations=900, useFilter = False)\n"
   ]
  },
  {
   "cell_type": "markdown",
   "metadata": {},
   "source": [
    "### Save Tensor Flow Model"
   ]
  },
  {
   "cell_type": "code",
   "execution_count": 42,
   "metadata": {},
   "outputs": [
    {
     "data": {
      "text/plain": [
       "'./captcha_model_filtered.ckpt'"
      ]
     },
     "execution_count": 42,
     "metadata": {},
     "output_type": "execute_result"
    }
   ],
   "source": [
    "saver = tf.train.Saver()\n",
    "# The model for not filtered is saved as captcha_model.ckpt\n",
    "saver.save(session, \"./captcha_model_filtered.ckpt\")\n"
   ]
  },
  {
   "cell_type": "markdown",
   "metadata": {
    "collapsed": true
   },
   "source": [
    "### Function to Predict Image Sets"
   ]
  },
  {
   "cell_type": "code",
   "execution_count": 44,
   "metadata": {
    "collapsed": true
   },
   "outputs": [],
   "source": [
    "def predictImageSet(imageSet): \n",
    "    _feed_dict = {\n",
    "            x: imageSet.reshape(-1, img_size_flat),\n",
    "            y_true: np.array([range(0, 26)])\n",
    "    }\n",
    "    preds = session.run(y_pred_cls, feed_dict=_feed_dict)\n",
    "    return preds"
   ]
  },
  {
   "cell_type": "markdown",
   "metadata": {},
   "source": [
    "### Predict and Visualize 10 Validation Images"
   ]
  },
  {
   "cell_type": "code",
   "execution_count": 81,
   "metadata": {
    "code_folding": []
   },
   "outputs": [
    {
     "data": {
      "image/png": "[encoded data removed]",
      "text/plain": [
       "<matplotlib.figure.Figure at 0x1a21321690>"
      ]
     },
     "metadata": {},
     "output_type": "display_data"
    },
    {
     "name": "stdout",
     "output_type": "stream",
     "text": [
      "The label of image above is predicted as m\n"
     ]
    },
    {
     "data": {
      "image/png": "[encoded data removed]",
      "text/plain": [
       "<matplotlib.figure.Figure at 0x1a2240b8d0>"
      ]
     },
     "metadata": {},
     "output_type": "display_data"
    },
    {
     "name": "stdout",
     "output_type": "stream",
     "text": [
      "The label of image above is predicted as o\n"
     ]
    },
    {
     "data": {
      "image/png": "[encoded data removed]",
      "text/plain": [
       "<matplotlib.figure.Figure at 0x1a1dd3b5d0>"
      ]
     },
     "metadata": {},
     "output_type": "display_data"
    },
    {
     "name": "stdout",
     "output_type": "stream",
     "text": [
      "The label of image above is predicted as v\n"
     ]
    },
    {
     "data": {
      "image/png": "[encoded data removed]",
      "text/plain": [
       "<matplotlib.figure.Figure at 0x1a1e9b43d0>"
      ]
     },
     "metadata": {},
     "output_type": "display_data"
    },
    {
     "name": "stdout",
     "output_type": "stream",
     "text": [
      "The label of image above is predicted as u\n"
     ]
    },
    {
     "data": {
      "image/png": "[encoded data removed]",
      "text/plain": [
       "<matplotlib.figure.Figure at 0x1a1dffca10>"
      ]
     },
     "metadata": {},
     "output_type": "display_data"
    },
    {
     "name": "stdout",
     "output_type": "stream",
     "text": [
      "The label of image above is predicted as d\n"
     ]
    },
    {
     "data": {
      "image/png": "[encoded data removed]",
      "text/plain": [
       "<matplotlib.figure.Figure at 0x1a224ac090>"
      ]
     },
     "metadata": {},
     "output_type": "display_data"
    },
    {
     "name": "stdout",
     "output_type": "stream",
     "text": [
      "The label of image above is predicted as a\n"
     ]
    },
    {
     "data": {
      "image/png": "[encoded data removed]",
      "text/plain": [
       "<matplotlib.figure.Figure at 0x1a1ddccfd0>"
      ]
     },
     "metadata": {},
     "output_type": "display_data"
    },
    {
     "name": "stdout",
     "output_type": "stream",
     "text": [
      "The label of image above is predicted as p\n"
     ]
    },
    {
     "data": {
      "image/png": "[encoded data removed]",
      "text/plain": [
       "<matplotlib.figure.Figure at 0x1a1d98cd10>"
      ]
     },
     "metadata": {},
     "output_type": "display_data"
    },
    {
     "name": "stdout",
     "output_type": "stream",
     "text": [
      "The label of image above is predicted as y\n"
     ]
    },
    {
     "data": {
      "image/png": "[encoded data removed]",
      "text/plain": [
       "<matplotlib.figure.Figure at 0x1a1dd76dd0>"
      ]
     },
     "metadata": {},
     "output_type": "display_data"
    },
    {
     "name": "stdout",
     "output_type": "stream",
     "text": [
      "The label of image above is predicted as f\n"
     ]
    },
    {
     "data": {
      "image/png": "[encoded data removed]",
      "text/plain": [
       "<matplotlib.figure.Figure at 0x1a1e804bd0>"
      ]
     },
     "metadata": {},
     "output_type": "display_data"
    },
    {
     "name": "stdout",
     "output_type": "stream",
     "text": [
      "The label of image above is predicted as k\n"
     ]
    }
   ],
   "source": [
    "random.seed(61)\n",
    "random10Ids = [random.randint(1, len(data.valid.labels)-1) for _ in range(0,10)]\n",
    "filtered_validation_images = filterImages(data.valid.ids[random10Ids],train_path)\n",
    "pred = predictImageSet(filtered_validation_images)\n",
    "pred = mapLabel(pred)\n",
    "for i in range(0,10):\n",
    "    plot_image(filtered_validation_images[i])\n",
    "    print('The label of image above is predicted as %s' % pred[i])"
   ]
  }
 ],
 "metadata": {
  "kernelspec": {
   "display_name": "Python 2",
   "language": "python",
   "name": "python2"
  },
  "language_info": {
   "codemirror_mode": {
    "name": "ipython",
    "version": 2
   },
   "file_extension": ".py",
   "mimetype": "text/x-python",
   "name": "python",
   "nbconvert_exporter": "python",
   "pygments_lexer": "ipython2",
   "version": "2.7.13"
  },
  "latex_envs": {
   "LaTeX_envs_menu_present": true,
   "autoclose": false,
   "autocomplete": true,
   "bibliofile": "biblio.bib",
   "cite_by": "apalike",
   "current_citInitial": 1.0,
   "eqLabelWithNumbers": true,
   "eqNumInitial": 1.0,
   "hotkeys": {
    "equation": "Ctrl-E",
    "itemize": "Ctrl-I"
   },
   "labels_anchors": false,
   "latex_user_defs": false,
   "report_style_numbering": false,
   "user_envs_cfg": false
  },
  "varInspector": {
   "cols": {
    "lenName": 16.0,
    "lenType": 16.0,
    "lenVar": 40.0
   },
   "kernels_config": {
    "python": {
     "delete_cmd_postfix": "",
     "delete_cmd_prefix": "del ",
     "library": "var_list.py",
     "varRefreshCmd": "print(var_dic_list())"
    },
    "r": {
     "delete_cmd_postfix": ") ",
     "delete_cmd_prefix": "rm(",
     "library": "var_list.r",
     "varRefreshCmd": "cat(var_dic_list()) "
    }
   },
   "oldHeight": 598.0,
   "position": {
    "height": "40px",
    "left": "1235px",
    "right": "-24px",
    "top": "4px",
    "width": "709px"
   },
   "types_to_exclude": [
    "module",
    "function",
    "builtin_function_or_method",
    "instance",
    "_Feature"
   ],
   "varInspector_section_display": "none",
   "window_display": true
  }
 },
 "nbformat": 4,
 "nbformat_minor": 2
}
